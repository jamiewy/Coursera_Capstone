{
 "cells": [
  {
   "cell_type": "markdown",
   "metadata": {},
   "source": [
    "# Open a Restaurant in Vancouver\n",
    "\n",
    "\n",
    "### Introduction\n",
    "Vancouver is a major city in western Canada, located in the Lower Mainland region of British Columbia. As one of the most populous city in Canada, the Greater Vancouver area had a population of 2463431 in 2016. Vancouver has the highest population density in Canada and it is one of the most ethnically and linguistically diverse cities in Canada. If a client would like to open a tradictional Chinese restaurant in the Greater Vancouver area, what areas are the best option to open the restaurant? For a Chinese/Asian restaurant, the location and competition are both determined by where the restaurant is opened. If there are too many Chinese restaurants in the same area, the profitability will be relatively decreased. On the other hand, open a restaurant in a location with higher income will have relatively higher profitability of business than in a poorer location. As a data scientist, we will do a cluster of Chinese/Asian restaurant in the Greater Vancouver neighbourhood, get the average price per customer spends and reviews and rates in those restaurants. We will use Foursquare - an API that provides most updated data regarding food junctions, places to visit, and schools or colleges in the Greater Vancouver area. \n",
    "\n",
    "### Data\n",
    "To answer the business problem, we will collect and use the following data:\n",
    "* Population and ethnic distribution of each neighbourhood (Vancouver Census)\n",
    "* Number of Chinese/Asian restaurants in each neighbourhood (Foursquare API)\n",
    "* Number of restaurant in each neighbourhood (Foursqure API)\n",
    "* Income distribution  of each neighbourhood (Vancouver Census)\n",
    "\n",
    "### Methodology\n",
    "1. Combine the Vancouver dataset, containing postal code, latitude and longitude for each postal code in Vancouver, bourough, neighbourhood name, and the census dataset into a data frame.\n",
    "2. Using the income distribution of each neighbourhood, the purchasing power of each area was calculated using median of each category weighted by the number of people in that income category, which represents the overall capital of each area. \n",
    "3. Visualize the location of different postal codes in Vancouver to obtain the general understanding of the location. \n",
    "4. After the regions being visualized, the Foursquare API can be used to explore each neighbourhood and return the top 150 venues within 2000 meters of the latitude and longitude for each postal codes.\n",
    "5. Drop the postal code, borough, latitude, longitude, and density columns of each region from the data frame. Use the population, area, purchasing power, total number of restaurant and Chinese/Asian restaurants to train KMeans clustering.\n"
   ]
  },
  {
   "cell_type": "code",
   "execution_count": null,
   "metadata": {},
   "outputs": [],
   "source": []
  }
 ],
 "metadata": {
  "kernelspec": {
   "display_name": "Python 3",
   "language": "python",
   "name": "python3"
  },
  "language_info": {
   "codemirror_mode": {
    "name": "ipython",
    "version": 3
   },
   "file_extension": ".py",
   "mimetype": "text/x-python",
   "name": "python",
   "nbconvert_exporter": "python",
   "pygments_lexer": "ipython3",
   "version": "3.7.0"
  }
 },
 "nbformat": 4,
 "nbformat_minor": 2
}
